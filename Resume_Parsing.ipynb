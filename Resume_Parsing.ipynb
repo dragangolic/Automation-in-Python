{
 "cells": [
  {
   "cell_type": "code",
   "execution_count": 4,
   "id": "8a1ae15a",
   "metadata": {},
   "outputs": [],
   "source": [
    "import spacy\n",
    "import pdfminer\n",
    "import re\n",
    "import os\n",
    "import pandas as pd\n",
    "import pdf2txt"
   ]
  },
  {
   "cell_type": "code",
   "execution_count": 5,
   "id": "03c99588",
   "metadata": {},
   "outputs": [],
   "source": [
    "def convert_pdf(f):\n",
    "    output_filename = os.path.basename(os.path.splitext(f)[0]) + \".txt\" # removing pdf extension and appending txt\n",
    "    output_filepath = os.path.join(\"output/txt.\", output_filename) # file txt will be saved in this folder txt\n",
    "    pdf2txt.main(args=[f, \"--outfile\", output_filepath]) # pdf to txt and save it in given location\n",
    "    print(output_filepath + \"saved successfully!!!\")\n",
    "    return open(output_filepath).read() # open and read the file"
   ]
  },
  {
   "cell_type": "code",
   "execution_count": 6,
   "id": "39af89e6",
   "metadata": {},
   "outputs": [],
   "source": [
    "# Load the language model\n",
    "nlp = spacy.load(\"en_core_web_sm\")"
   ]
  },
  {
   "cell_type": "code",
   "execution_count": null,
   "id": "039b6b7e",
   "metadata": {},
   "outputs": [],
   "source": [
    "# phone_num credit https://stackoverflow.com/a/3868861"
   ]
  },
  {
   "cell_type": "code",
   "execution_count": 8,
   "id": "9162c664",
   "metadata": {},
   "outputs": [],
   "source": [
    "# Create the output file structure\n",
    "result_dict = {'name': [], 'phone': [], 'email': [], 'skills': []}\n",
    "names = []\n",
    "phones = []\n",
    "emails = []\n",
    "skills = []"
   ]
  },
  {
   "cell_type": "code",
   "execution_count": 14,
   "id": "ee13236a",
   "metadata": {},
   "outputs": [
    {
     "name": "stderr",
     "output_type": "stream",
     "text": [
      "<>:7: SyntaxWarning: \"is\" with a literal. Did you mean \"==\"?\n",
      "<>:7: SyntaxWarning: \"is\" with a literal. Did you mean \"==\"?\n",
      "C:\\Users\\Dragan Golic\\AppData\\Local\\Temp\\ipykernel_15260\\776383585.py:7: SyntaxWarning: \"is\" with a literal. Did you mean \"==\"?\n",
      "  name = [entity.text for entity in doc.ents if entity.label_ is \"PERSON\"][0]\n"
     ]
    }
   ],
   "source": [
    "def parse_content(text):\n",
    "    skillset = re.compile(\"python|java|sql|hadoop|tableau\")\n",
    "    phone_num = re.compile(\n",
    "        \"(\\d{3}[-\\.\\s]??\\d{3}[-\\.\\s]??\\d{4}|\\(\\d{3}\\)\\s*\\d{3}[-\\.\\s]??\\d{4}|\\d{3}[-\\.\\s]??\\d{4})\"\n",
    "    )\n",
    "    doc = nlp(text)\n",
    "    name = [entity.text for entity in doc.ents if entity.label_ is \"PERSON\"][0] # first name detected\n",
    "    print(name)\n",
    "    email = [word for word in doc if word.like_email == True][0] # give the first email id\n",
    "    print(email)\n",
    "    phone = str(re.findall(phone_num, text.lower()))\n",
    "    skills_list = re.findall(skillset, text.lower())\n",
    "    unique_skills_list = str(set(skills_list))\n",
    "    \n",
    "    names.append(name)\n",
    "    emails.append(email)\n",
    "    phones.append(phone)\n",
    "    skills.append(unique_skills_list)\n",
    "    print(\"Extraction completed successfully!!!\")"
   ]
  },
  {
   "cell_type": "code",
   "execution_count": 15,
   "id": "99b6ca28",
   "metadata": {},
   "outputs": [
    {
     "name": "stdout",
     "output_type": "stream",
     "text": [
      "Reading.....Alisson ParkerCV.pdf\n",
      "output/txt.\\Alisson ParkerCV.txtsaved successfully!!!\n",
      "Alisson Parker-Wright                                                                                                 \n",
      "alli1414parks@mail.com\n",
      "Extraction completed successfully!!!\n",
      "Reading.....AshleyMilesCV.pdf\n",
      "output/txt.\\AshleyMilesCV.txtsaved successfully!!!\n",
      "Ashley Miles\n",
      "ashleymiles@memail.com\n",
      "Extraction completed successfully!!!\n",
      "Reading.....John DominicCV.pdf\n",
      "output/txt.\\John DominicCV.txtsaved successfully!!!\n",
      "John Dominic\n",
      "johndominic@mail.com\n",
      "Extraction completed successfully!!!\n"
     ]
    }
   ],
   "source": [
    "# Parse more resumes at the time\n",
    "for file in os.listdir('resumes/'):\n",
    "    if file.endswith('.pdf'):\n",
    "        print('Reading.....' + file)\n",
    "        txt = convert_pdf(os.path.join('resumes/',file))\n",
    "        parse_content(txt)"
   ]
  },
  {
   "cell_type": "code",
   "execution_count": 17,
   "id": "79fdbbe0",
   "metadata": {},
   "outputs": [
    {
     "data": {
      "text/plain": [
       "['Alisson Parker-Wright                                                                                                 ',\n",
       " 'Ashley Miles',\n",
       " 'John Dominic']"
      ]
     },
     "execution_count": 17,
     "metadata": {},
     "output_type": "execute_result"
    }
   ],
   "source": [
    "names"
   ]
  },
  {
   "cell_type": "code",
   "execution_count": 18,
   "id": "61f97072",
   "metadata": {},
   "outputs": [
    {
     "data": {
      "text/plain": [
       "[\"['8569878511']\", \"['6592251422']\", \"['7877756411']\"]"
      ]
     },
     "execution_count": 18,
     "metadata": {},
     "output_type": "execute_result"
    }
   ],
   "source": [
    "phones"
   ]
  },
  {
   "cell_type": "code",
   "execution_count": 19,
   "id": "2fc1d7dd",
   "metadata": {},
   "outputs": [
    {
     "data": {
      "text/plain": [
       "[\"{'java', 'tableau', 'python'}\",\n",
       " \"{'sql', 'tableau'}\",\n",
       " \"{'java', 'hadoop', 'python'}\"]"
      ]
     },
     "execution_count": 19,
     "metadata": {},
     "output_type": "execute_result"
    }
   ],
   "source": [
    "skills"
   ]
  },
  {
   "cell_type": "code",
   "execution_count": 16,
   "id": "17770dc5",
   "metadata": {},
   "outputs": [
    {
     "name": "stdout",
     "output_type": "stream",
     "text": [
      "{'name': ['Alisson Parker-Wright                                                                                                 ', 'Ashley Miles', 'John Dominic'], 'phone': [\"['8569878511']\", \"['6592251422']\", \"['7877756411']\"], 'email': [alli1414parks@mail.com, ashleymiles@memail.com, johndominic@mail.com], 'skills': [\"{'java', 'tableau', 'python'}\", \"{'sql', 'tableau'}\", \"{'java', 'hadoop', 'python'}\"]}\n"
     ]
    }
   ],
   "source": [
    "result_dict['name'] = names\n",
    "result_dict['phone'] = phones\n",
    "result_dict['email'] = emails\n",
    "result_dict['skills'] = skills\n",
    "print(result_dict)"
   ]
  },
  {
   "cell_type": "code",
   "execution_count": 21,
   "id": "639ec3d2",
   "metadata": {},
   "outputs": [
    {
     "data": {
      "text/html": [
       "<div>\n",
       "<style scoped>\n",
       "    .dataframe tbody tr th:only-of-type {\n",
       "        vertical-align: middle;\n",
       "    }\n",
       "\n",
       "    .dataframe tbody tr th {\n",
       "        vertical-align: top;\n",
       "    }\n",
       "\n",
       "    .dataframe thead th {\n",
       "        text-align: right;\n",
       "    }\n",
       "</style>\n",
       "<table border=\"1\" class=\"dataframe\">\n",
       "  <thead>\n",
       "    <tr style=\"text-align: right;\">\n",
       "      <th></th>\n",
       "      <th>name</th>\n",
       "      <th>phone</th>\n",
       "      <th>email</th>\n",
       "      <th>skills</th>\n",
       "    </tr>\n",
       "  </thead>\n",
       "  <tbody>\n",
       "    <tr>\n",
       "      <th>0</th>\n",
       "      <td>Alisson Parker-Wright                         ...</td>\n",
       "      <td>['8569878511']</td>\n",
       "      <td>alli1414parks@mail.com</td>\n",
       "      <td>{'java', 'tableau', 'python'}</td>\n",
       "    </tr>\n",
       "    <tr>\n",
       "      <th>1</th>\n",
       "      <td>Ashley Miles</td>\n",
       "      <td>['6592251422']</td>\n",
       "      <td>ashleymiles@memail.com</td>\n",
       "      <td>{'sql', 'tableau'}</td>\n",
       "    </tr>\n",
       "    <tr>\n",
       "      <th>2</th>\n",
       "      <td>John Dominic</td>\n",
       "      <td>['7877756411']</td>\n",
       "      <td>johndominic@mail.com</td>\n",
       "      <td>{'java', 'hadoop', 'python'}</td>\n",
       "    </tr>\n",
       "  </tbody>\n",
       "</table>\n",
       "</div>"
      ],
      "text/plain": [
       "                                                name           phone  \\\n",
       "0  Alisson Parker-Wright                         ...  ['8569878511']   \n",
       "1                                       Ashley Miles  ['6592251422']   \n",
       "2                                       John Dominic  ['7877756411']   \n",
       "\n",
       "                    email                         skills  \n",
       "0  alli1414parks@mail.com  {'java', 'tableau', 'python'}  \n",
       "1  ashleymiles@memail.com             {'sql', 'tableau'}  \n",
       "2    johndominic@mail.com   {'java', 'hadoop', 'python'}  "
      ]
     },
     "execution_count": 21,
     "metadata": {},
     "output_type": "execute_result"
    }
   ],
   "source": [
    "result_df = pd.DataFrame(result_dict)\n",
    "result_df"
   ]
  },
  {
   "cell_type": "code",
   "execution_count": 22,
   "id": "bac67ecb",
   "metadata": {},
   "outputs": [],
   "source": [
    "result_df.to_csv('output/csv/parsed_resumes.csv')"
   ]
  },
  {
   "cell_type": "code",
   "execution_count": null,
   "id": "fa0cd73e",
   "metadata": {},
   "outputs": [],
   "source": []
  },
  {
   "cell_type": "code",
   "execution_count": null,
   "id": "b24e3d14",
   "metadata": {},
   "outputs": [],
   "source": []
  }
 ],
 "metadata": {
  "kernelspec": {
   "display_name": "Python 3 (ipykernel)",
   "language": "python",
   "name": "python3"
  },
  "language_info": {
   "codemirror_mode": {
    "name": "ipython",
    "version": 3
   },
   "file_extension": ".py",
   "mimetype": "text/x-python",
   "name": "python",
   "nbconvert_exporter": "python",
   "pygments_lexer": "ipython3",
   "version": "3.9.13"
  }
 },
 "nbformat": 4,
 "nbformat_minor": 5
}
