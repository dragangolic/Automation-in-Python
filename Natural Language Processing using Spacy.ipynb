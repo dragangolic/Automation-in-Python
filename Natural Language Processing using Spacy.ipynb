{
 "cells": [
  {
   "cell_type": "code",
   "execution_count": 7,
   "id": "52625c60",
   "metadata": {},
   "outputs": [],
   "source": [
    "import spacy\n",
    "import pandas as pd\n",
    "import re\n",
    "import os"
   ]
  },
  {
   "cell_type": "code",
   "execution_count": 22,
   "id": "ebffebd8",
   "metadata": {},
   "outputs": [],
   "source": [
    "#!python -m spacy download en_core_web_sm"
   ]
  },
  {
   "cell_type": "markdown",
   "id": "fb2c2501",
   "metadata": {},
   "source": [
    "# Load English tokenizer, tagger, parser, NER and word vectors"
   ]
  },
  {
   "cell_type": "code",
   "execution_count": 29,
   "id": "8400d81d",
   "metadata": {},
   "outputs": [],
   "source": [
    "nlp = spacy.load(\"en_core_web_sm\")"
   ]
  },
  {
   "cell_type": "code",
   "execution_count": 30,
   "id": "da9f0a6b",
   "metadata": {},
   "outputs": [],
   "source": [
    "text = \"Steven Paul Jobs (February 24, 1955 – October 5, 2011) was an American business magnate, inventor, and investor.\""
   ]
  },
  {
   "cell_type": "markdown",
   "id": "b1eac676",
   "metadata": {},
   "source": [
    "# NLP at Work"
   ]
  },
  {
   "cell_type": "code",
   "execution_count": 31,
   "id": "caefd018",
   "metadata": {},
   "outputs": [],
   "source": [
    "doc = nlp(text)"
   ]
  },
  {
   "cell_type": "markdown",
   "id": "7b9159b1",
   "metadata": {},
   "source": [
    "# Tokenization"
   ]
  },
  {
   "cell_type": "code",
   "execution_count": 36,
   "id": "3ba89687",
   "metadata": {},
   "outputs": [
    {
     "name": "stdout",
     "output_type": "stream",
     "text": [
      "Steven\n",
      "Paul\n",
      "Jobs\n",
      "(\n",
      "February\n",
      "24\n",
      ",\n",
      "1955\n",
      "–\n",
      "October\n",
      "5\n",
      ",\n",
      "2011\n",
      ")\n",
      "was\n",
      "an\n",
      "American\n",
      "business\n",
      "magnate\n",
      ",\n",
      "inventor\n",
      ",\n",
      "and\n",
      "investor\n",
      ".\n"
     ]
    }
   ],
   "source": [
    "# Token is a word\n",
    "for token in doc:\n",
    "    print(token)"
   ]
  },
  {
   "cell_type": "markdown",
   "id": "89dae18a",
   "metadata": {},
   "source": [
    "# Only Noun"
   ]
  },
  {
   "cell_type": "code",
   "execution_count": 41,
   "id": "9fdae2ba",
   "metadata": {},
   "outputs": [
    {
     "name": "stdout",
     "output_type": "stream",
     "text": [
      "business\n",
      "magnate\n",
      "inventor\n",
      "investor\n"
     ]
    }
   ],
   "source": [
    "# Print out NOUN, ADJ or VERB\n",
    "for token in doc:\n",
    "    if token.pos_ == \"NOUN\":\n",
    "        print(token)"
   ]
  },
  {
   "cell_type": "markdown",
   "id": "57384388",
   "metadata": {},
   "source": [
    "# Named Entity Recognition"
   ]
  },
  {
   "cell_type": "code",
   "execution_count": 43,
   "id": "7c4b12d8",
   "metadata": {},
   "outputs": [
    {
     "name": "stdout",
     "output_type": "stream",
     "text": [
      "Steven Paul Jobs PERSON\n",
      "February 24, 1955 – October 5, 2011 DATE\n",
      "American NORP\n"
     ]
    }
   ],
   "source": [
    "# Identify an entity\n",
    "for entity in doc.ents:\n",
    "    print(entity.text, entity.label_)"
   ]
  },
  {
   "cell_type": "code",
   "execution_count": null,
   "id": "f9a6d592",
   "metadata": {},
   "outputs": [],
   "source": []
  },
  {
   "cell_type": "code",
   "execution_count": null,
   "id": "f4ef6c93",
   "metadata": {},
   "outputs": [],
   "source": []
  },
  {
   "cell_type": "code",
   "execution_count": null,
   "id": "54fbd867",
   "metadata": {},
   "outputs": [],
   "source": []
  }
 ],
 "metadata": {
  "kernelspec": {
   "display_name": "Python 3 (ipykernel)",
   "language": "python",
   "name": "python3"
  },
  "language_info": {
   "codemirror_mode": {
    "name": "ipython",
    "version": 3
   },
   "file_extension": ".py",
   "mimetype": "text/x-python",
   "name": "python",
   "nbconvert_exporter": "python",
   "pygments_lexer": "ipython3",
   "version": "3.9.13"
  }
 },
 "nbformat": 4,
 "nbformat_minor": 5
}
