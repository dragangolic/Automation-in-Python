{
 "cells": [
  {
   "cell_type": "code",
   "execution_count": null,
   "id": "bd3e9caa",
   "metadata": {},
   "outputs": [],
   "source": [
    "!pip uninstall camelot-py"
   ]
  },
  {
   "cell_type": "code",
   "execution_count": 2,
   "id": "243a1e34",
   "metadata": {},
   "outputs": [
    {
     "name": "stdout",
     "output_type": "stream",
     "text": [
      "Requirement already satisfied: camelot-py==0.11.0 in c:\\users\\dragan golic\\anaconda3\\lib\\site-packages (0.11.0)\n",
      "Requirement already satisfied: numpy>=1.13.3 in c:\\users\\dragan golic\\anaconda3\\lib\\site-packages (from camelot-py==0.11.0) (1.21.5)\n",
      "Requirement already satisfied: pandas>=0.23.4 in c:\\users\\dragan golic\\anaconda3\\lib\\site-packages (from camelot-py==0.11.0) (1.4.4)\n",
      "Requirement already satisfied: tabulate>=0.8.9 in c:\\users\\dragan golic\\anaconda3\\lib\\site-packages (from camelot-py==0.11.0) (0.8.10)\n",
      "Requirement already satisfied: chardet>=3.0.4 in c:\\users\\dragan golic\\anaconda3\\lib\\site-packages (from camelot-py==0.11.0) (4.0.0)\n",
      "Requirement already satisfied: pypdf>=3.0.0 in c:\\users\\dragan golic\\anaconda3\\lib\\site-packages (from camelot-py==0.11.0) (3.12.0)\n",
      "Requirement already satisfied: click>=6.7 in c:\\users\\dragan golic\\anaconda3\\lib\\site-packages (from camelot-py==0.11.0) (8.0.4)\n",
      "Requirement already satisfied: openpyxl>=2.5.8 in c:\\users\\dragan golic\\anaconda3\\lib\\site-packages (from camelot-py==0.11.0) (3.0.10)\n",
      "Requirement already satisfied: pdfminer.six>=20200726 in c:\\users\\dragan golic\\anaconda3\\lib\\site-packages (from camelot-py==0.11.0) (20221105)\n",
      "Requirement already satisfied: colorama in c:\\users\\dragan golic\\anaconda3\\lib\\site-packages (from click>=6.7->camelot-py==0.11.0) (0.4.5)\n",
      "Requirement already satisfied: et_xmlfile in c:\\users\\dragan golic\\anaconda3\\lib\\site-packages (from openpyxl>=2.5.8->camelot-py==0.11.0) (1.1.0)\n",
      "Requirement already satisfied: python-dateutil>=2.8.1 in c:\\users\\dragan golic\\anaconda3\\lib\\site-packages (from pandas>=0.23.4->camelot-py==0.11.0) (2.8.2)\n",
      "Requirement already satisfied: pytz>=2020.1 in c:\\users\\dragan golic\\anaconda3\\lib\\site-packages (from pandas>=0.23.4->camelot-py==0.11.0) (2022.1)\n",
      "Requirement already satisfied: charset-normalizer>=2.0.0 in c:\\users\\dragan golic\\anaconda3\\lib\\site-packages (from pdfminer.six>=20200726->camelot-py==0.11.0) (2.0.4)\n",
      "Requirement already satisfied: cryptography>=36.0.0 in c:\\users\\dragan golic\\anaconda3\\lib\\site-packages (from pdfminer.six>=20200726->camelot-py==0.11.0) (37.0.1)\n",
      "Requirement already satisfied: typing_extensions>=3.10.0.0 in c:\\users\\dragan golic\\anaconda3\\lib\\site-packages (from pypdf>=3.0.0->camelot-py==0.11.0) (4.6.3)\n",
      "Requirement already satisfied: cffi>=1.12 in c:\\users\\dragan golic\\anaconda3\\lib\\site-packages (from cryptography>=36.0.0->pdfminer.six>=20200726->camelot-py==0.11.0) (1.15.1)\n",
      "Requirement already satisfied: six>=1.5 in c:\\users\\dragan golic\\anaconda3\\lib\\site-packages (from python-dateutil>=2.8.1->pandas>=0.23.4->camelot-py==0.11.0) (1.16.0)\n",
      "Requirement already satisfied: pycparser in c:\\users\\dragan golic\\anaconda3\\lib\\site-packages (from cffi>=1.12->cryptography>=36.0.0->pdfminer.six>=20200726->camelot-py==0.11.0) (2.21)\n"
     ]
    }
   ],
   "source": [
    "!pip install camelot-py==0.11.0"
   ]
  },
  {
   "cell_type": "code",
   "execution_count": null,
   "id": "a5213c1d",
   "metadata": {},
   "outputs": [],
   "source": [
    "#!pip install tabula"
   ]
  },
  {
   "cell_type": "code",
   "execution_count": 3,
   "id": "9abd05ee",
   "metadata": {},
   "outputs": [
    {
     "name": "stdout",
     "output_type": "stream",
     "text": [
      "Requirement already satisfied: camelot-py in c:\\users\\dragan golic\\anaconda3\\lib\\site-packages (0.11.0)\n",
      "Requirement already satisfied: pdfminer.six>=20200726 in c:\\users\\dragan golic\\anaconda3\\lib\\site-packages (from camelot-py) (20221105)\n",
      "Requirement already satisfied: pypdf>=3.0.0 in c:\\users\\dragan golic\\anaconda3\\lib\\site-packages (from camelot-py) (3.12.0)\n",
      "Requirement already satisfied: click>=6.7 in c:\\users\\dragan golic\\anaconda3\\lib\\site-packages (from camelot-py) (8.0.4)\n",
      "Requirement already satisfied: openpyxl>=2.5.8 in c:\\users\\dragan golic\\anaconda3\\lib\\site-packages (from camelot-py) (3.0.10)\n",
      "Requirement already satisfied: pandas>=0.23.4 in c:\\users\\dragan golic\\anaconda3\\lib\\site-packages (from camelot-py) (1.4.4)\n",
      "Requirement already satisfied: chardet>=3.0.4 in c:\\users\\dragan golic\\anaconda3\\lib\\site-packages (from camelot-py) (4.0.0)\n",
      "Requirement already satisfied: numpy>=1.13.3 in c:\\users\\dragan golic\\anaconda3\\lib\\site-packages (from camelot-py) (1.21.5)\n",
      "Requirement already satisfied: tabulate>=0.8.9 in c:\\users\\dragan golic\\anaconda3\\lib\\site-packages (from camelot-py) (0.8.10)\n",
      "Requirement already satisfied: colorama in c:\\users\\dragan golic\\anaconda3\\lib\\site-packages (from click>=6.7->camelot-py) (0.4.5)\n",
      "Requirement already satisfied: et_xmlfile in c:\\users\\dragan golic\\anaconda3\\lib\\site-packages (from openpyxl>=2.5.8->camelot-py) (1.1.0)\n",
      "Requirement already satisfied: pytz>=2020.1 in c:\\users\\dragan golic\\anaconda3\\lib\\site-packages (from pandas>=0.23.4->camelot-py) (2022.1)\n",
      "Requirement already satisfied: python-dateutil>=2.8.1 in c:\\users\\dragan golic\\anaconda3\\lib\\site-packages (from pandas>=0.23.4->camelot-py) (2.8.2)\n",
      "Requirement already satisfied: cryptography>=36.0.0 in c:\\users\\dragan golic\\anaconda3\\lib\\site-packages (from pdfminer.six>=20200726->camelot-py) (37.0.1)\n",
      "Requirement already satisfied: charset-normalizer>=2.0.0 in c:\\users\\dragan golic\\anaconda3\\lib\\site-packages (from pdfminer.six>=20200726->camelot-py) (2.0.4)\n",
      "Requirement already satisfied: typing_extensions>=3.10.0.0 in c:\\users\\dragan golic\\anaconda3\\lib\\site-packages (from pypdf>=3.0.0->camelot-py) (4.6.3)\n",
      "Requirement already satisfied: cffi>=1.12 in c:\\users\\dragan golic\\anaconda3\\lib\\site-packages (from cryptography>=36.0.0->pdfminer.six>=20200726->camelot-py) (1.15.1)\n",
      "Requirement already satisfied: six>=1.5 in c:\\users\\dragan golic\\anaconda3\\lib\\site-packages (from python-dateutil>=2.8.1->pandas>=0.23.4->camelot-py) (1.16.0)\n",
      "Requirement already satisfied: pycparser in c:\\users\\dragan golic\\anaconda3\\lib\\site-packages (from cffi>=1.12->cryptography>=36.0.0->pdfminer.six>=20200726->camelot-py) (2.21)\n"
     ]
    }
   ],
   "source": [
    "#!pip install --upgrade camelot-py"
   ]
  },
  {
   "cell_type": "code",
   "execution_count": 3,
   "id": "65e35bbe",
   "metadata": {},
   "outputs": [
    {
     "ename": "ImportError",
     "evalue": "cannot import name 'TableList' from 'camelot.core' (C:\\Users\\Dragan Golic\\anaconda3\\lib\\site-packages\\camelot\\core\\__init__.py)",
     "output_type": "error",
     "traceback": [
      "\u001b[1;31m---------------------------------------------------------------------------\u001b[0m",
      "\u001b[1;31mImportError\u001b[0m                               Traceback (most recent call last)",
      "\u001b[1;32m~\\AppData\\Local\\Temp\\ipykernel_7624\\2211443774.py\u001b[0m in \u001b[0;36m<module>\u001b[1;34m\u001b[0m\n\u001b[1;32m----> 1\u001b[1;33m \u001b[1;32mimport\u001b[0m \u001b[0mcamelot\u001b[0m \u001b[1;32mas\u001b[0m \u001b[0mcm\u001b[0m\u001b[1;33m\u001b[0m\u001b[1;33m\u001b[0m\u001b[0m\n\u001b[0m\u001b[0;32m      2\u001b[0m \u001b[1;31m#import tabula\u001b[0m\u001b[1;33m\u001b[0m\u001b[1;33m\u001b[0m\u001b[0m\n\u001b[0;32m      3\u001b[0m \u001b[1;32mimport\u001b[0m \u001b[0mseaborn\u001b[0m\u001b[1;33m\u001b[0m\u001b[1;33m\u001b[0m\u001b[0m\n",
      "\u001b[1;32m~\\anaconda3\\lib\\site-packages\\camelot\\__init__.py\u001b[0m in \u001b[0;36m<module>\u001b[1;34m\u001b[0m\n\u001b[0;32m      4\u001b[0m \u001b[1;33m\u001b[0m\u001b[0m\n\u001b[0;32m      5\u001b[0m \u001b[1;32mfrom\u001b[0m \u001b[1;33m.\u001b[0m\u001b[0m__version__\u001b[0m \u001b[1;32mimport\u001b[0m \u001b[0m__version__\u001b[0m\u001b[1;33m\u001b[0m\u001b[1;33m\u001b[0m\u001b[0m\n\u001b[1;32m----> 6\u001b[1;33m \u001b[1;32mfrom\u001b[0m \u001b[1;33m.\u001b[0m\u001b[0mio\u001b[0m \u001b[1;32mimport\u001b[0m \u001b[0mread_pdf\u001b[0m\u001b[1;33m\u001b[0m\u001b[1;33m\u001b[0m\u001b[0m\n\u001b[0m\u001b[0;32m      7\u001b[0m \u001b[1;32mfrom\u001b[0m \u001b[1;33m.\u001b[0m\u001b[0mplotting\u001b[0m \u001b[1;32mimport\u001b[0m \u001b[0mPlotMethods\u001b[0m\u001b[1;33m\u001b[0m\u001b[1;33m\u001b[0m\u001b[0m\n\u001b[0;32m      8\u001b[0m \u001b[1;33m\u001b[0m\u001b[0m\n",
      "\u001b[1;32m~\\anaconda3\\lib\\site-packages\\camelot\\io.py\u001b[0m in \u001b[0;36m<module>\u001b[1;34m\u001b[0m\n\u001b[0;32m      3\u001b[0m \u001b[1;32mimport\u001b[0m \u001b[0mwarnings\u001b[0m\u001b[1;33m\u001b[0m\u001b[1;33m\u001b[0m\u001b[0m\n\u001b[0;32m      4\u001b[0m \u001b[1;33m\u001b[0m\u001b[0m\n\u001b[1;32m----> 5\u001b[1;33m \u001b[1;32mfrom\u001b[0m \u001b[1;33m.\u001b[0m\u001b[0mhandlers\u001b[0m \u001b[1;32mimport\u001b[0m \u001b[0mPDFHandler\u001b[0m\u001b[1;33m\u001b[0m\u001b[1;33m\u001b[0m\u001b[0m\n\u001b[0m\u001b[0;32m      6\u001b[0m \u001b[1;32mfrom\u001b[0m \u001b[1;33m.\u001b[0m\u001b[0mutils\u001b[0m \u001b[1;32mimport\u001b[0m \u001b[0mvalidate_input\u001b[0m\u001b[1;33m,\u001b[0m \u001b[0mremove_extra\u001b[0m\u001b[1;33m\u001b[0m\u001b[1;33m\u001b[0m\u001b[0m\n\u001b[0;32m      7\u001b[0m \u001b[1;33m\u001b[0m\u001b[0m\n",
      "\u001b[1;32m~\\anaconda3\\lib\\site-packages\\camelot\\handlers.py\u001b[0m in \u001b[0;36m<module>\u001b[1;34m\u001b[0m\n\u001b[0;32m      6\u001b[0m \u001b[1;32mfrom\u001b[0m \u001b[0mpypdf\u001b[0m \u001b[1;32mimport\u001b[0m \u001b[0mPdfReader\u001b[0m\u001b[1;33m,\u001b[0m \u001b[0mPdfWriter\u001b[0m\u001b[1;33m\u001b[0m\u001b[1;33m\u001b[0m\u001b[0m\n\u001b[0;32m      7\u001b[0m \u001b[1;33m\u001b[0m\u001b[0m\n\u001b[1;32m----> 8\u001b[1;33m \u001b[1;32mfrom\u001b[0m \u001b[1;33m.\u001b[0m\u001b[0mcore\u001b[0m \u001b[1;32mimport\u001b[0m \u001b[0mTableList\u001b[0m\u001b[1;33m\u001b[0m\u001b[1;33m\u001b[0m\u001b[0m\n\u001b[0m\u001b[0;32m      9\u001b[0m \u001b[1;32mfrom\u001b[0m \u001b[1;33m.\u001b[0m\u001b[0mparsers\u001b[0m \u001b[1;32mimport\u001b[0m \u001b[0mStream\u001b[0m\u001b[1;33m,\u001b[0m \u001b[0mLattice\u001b[0m\u001b[1;33m\u001b[0m\u001b[1;33m\u001b[0m\u001b[0m\n\u001b[0;32m     10\u001b[0m from .utils import (\n",
      "\u001b[1;31mImportError\u001b[0m: cannot import name 'TableList' from 'camelot.core' (C:\\Users\\Dragan Golic\\anaconda3\\lib\\site-packages\\camelot\\core\\__init__.py)"
     ]
    }
   ],
   "source": [
    "import camelot as cm\n",
    "#import tabula\n",
    "import seaborn"
   ]
  },
  {
   "cell_type": "code",
   "execution_count": null,
   "id": "24b81b17",
   "metadata": {},
   "outputs": [],
   "source": [
    "# \"stream\", \"lattice\""
   ]
  },
  {
   "cell_type": "code",
   "execution_count": null,
   "id": "b1c9969f",
   "metadata": {},
   "outputs": [],
   "source": [
    "input_pdf = tabula.read_pdf(\"india_factsheet_economic_n_hdi.pdf\", flavor= 'lattice', pages='1,2')\n",
    "input_pdf"
   ]
  },
  {
   "cell_type": "code",
   "execution_count": null,
   "id": "7e6ec971",
   "metadata": {},
   "outputs": [],
   "source": [
    "for n in input_pdf:\n",
    "    print(n)"
   ]
  },
  {
   "cell_type": "code",
   "execution_count": null,
   "id": "fc1f5dcd",
   "metadata": {},
   "outputs": [],
   "source": [
    "input_pdf[2].df"
   ]
  },
  {
   "cell_type": "code",
   "execution_count": null,
   "id": "6f6003e2",
   "metadata": {},
   "outputs": [],
   "source": [
    "df = input_pdf[2].df.loc[11:14, 1:3]\n",
    "df"
   ]
  },
  {
   "cell_type": "code",
   "execution_count": null,
   "id": "fa2efa49",
   "metadata": {},
   "outputs": [],
   "source": [
    "df = df.reset_index(drop=True)"
   ]
  },
  {
   "cell_type": "code",
   "execution_count": null,
   "id": "c9cf5348",
   "metadata": {},
   "outputs": [],
   "source": [
    "df.columns = ['KPI', '2001', '2011']\n",
    "df"
   ]
  },
  {
   "cell_type": "code",
   "execution_count": null,
   "id": "c1a155e5",
   "metadata": {},
   "outputs": [],
   "source": [
    "df.loc[:,['2001', '2011']] = df.loc[:,['2001', '2011']].astype(float)\n",
    "df"
   ]
  },
  {
   "cell_type": "code",
   "execution_count": null,
   "id": "ff80ad88",
   "metadata": {},
   "outputs": [],
   "source": [
    "df.to_csv(\"table_from_pdf.csv\")"
   ]
  },
  {
   "cell_type": "code",
   "execution_count": null,
   "id": "7d87d13c",
   "metadata": {},
   "outputs": [],
   "source": [
    "df.to_excel(\"pack_output_excel.xlsx\")"
   ]
  },
  {
   "cell_type": "code",
   "execution_count": null,
   "id": "33c6623f",
   "metadata": {},
   "outputs": [],
   "source": [
    "import pandas as pd"
   ]
  },
  {
   "cell_type": "code",
   "execution_count": null,
   "id": "bcfa8933",
   "metadata": {},
   "outputs": [],
   "source": [
    "df2 = pd.read_csv(\"table_from_pdf.csv\")\n",
    "df2"
   ]
  },
  {
   "cell_type": "code",
   "execution_count": null,
   "id": "6f624b2f",
   "metadata": {},
   "outputs": [],
   "source": [
    "import seaborn as sns"
   ]
  },
  {
   "cell_type": "code",
   "execution_count": null,
   "id": "af196587",
   "metadata": {},
   "outputs": [],
   "source": [
    "df_melted = df.melt('KPI', var_name='year', value_name = 'percentage')"
   ]
  },
  {
   "cell_type": "code",
   "execution_count": null,
   "id": "c226783a",
   "metadata": {},
   "outputs": [],
   "source": [
    "sns.barplot(x = \"KPI\", y = \"percentage\", hue = \"year\", data = df_melted)"
   ]
  },
  {
   "cell_type": "code",
   "execution_count": null,
   "id": "4f591799",
   "metadata": {},
   "outputs": [],
   "source": []
  },
  {
   "cell_type": "code",
   "execution_count": null,
   "id": "51ae88fb",
   "metadata": {},
   "outputs": [],
   "source": []
  },
  {
   "cell_type": "code",
   "execution_count": null,
   "id": "5b309aad",
   "metadata": {},
   "outputs": [],
   "source": []
  },
  {
   "cell_type": "code",
   "execution_count": null,
   "id": "f655bb08",
   "metadata": {},
   "outputs": [],
   "source": []
  },
  {
   "cell_type": "code",
   "execution_count": null,
   "id": "466e4e7f",
   "metadata": {},
   "outputs": [],
   "source": []
  },
  {
   "cell_type": "code",
   "execution_count": null,
   "id": "ecfe0c0d",
   "metadata": {},
   "outputs": [],
   "source": []
  },
  {
   "cell_type": "code",
   "execution_count": null,
   "id": "db27d4ee",
   "metadata": {},
   "outputs": [],
   "source": []
  },
  {
   "cell_type": "code",
   "execution_count": null,
   "id": "0d77bf96",
   "metadata": {},
   "outputs": [],
   "source": []
  },
  {
   "cell_type": "code",
   "execution_count": null,
   "id": "43bef877",
   "metadata": {},
   "outputs": [],
   "source": []
  },
  {
   "cell_type": "code",
   "execution_count": null,
   "id": "d44308d5",
   "metadata": {},
   "outputs": [],
   "source": []
  },
  {
   "cell_type": "code",
   "execution_count": null,
   "id": "44868d24",
   "metadata": {},
   "outputs": [],
   "source": []
  },
  {
   "cell_type": "code",
   "execution_count": null,
   "id": "fd4e1284",
   "metadata": {},
   "outputs": [],
   "source": []
  }
 ],
 "metadata": {
  "kernelspec": {
   "display_name": "Python 3 (ipykernel)",
   "language": "python",
   "name": "python3"
  },
  "language_info": {
   "codemirror_mode": {
    "name": "ipython",
    "version": 3
   },
   "file_extension": ".py",
   "mimetype": "text/x-python",
   "name": "python",
   "nbconvert_exporter": "python",
   "pygments_lexer": "ipython3",
   "version": "3.9.13"
  }
 },
 "nbformat": 4,
 "nbformat_minor": 5
}
